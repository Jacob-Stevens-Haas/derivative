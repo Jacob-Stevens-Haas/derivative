{
 "cells": [
  {
   "cell_type": "markdown",
   "metadata": {},
   "source": [
    "The goal of this notebook is to gather common methods for differentiation for comparison across a suite of examples. \n",
    "\n",
    "References:\n",
    "\n",
    "[1] Numerical differentiation of experimental data: local versus global methods, K. Ahnert and M. Abel\n",
    "[2] An Algorithm for Total Variation Minimization and Applications, Antonin Chambolle\n",
    "[3] Computational Methods for Inverse Problems, Curtis Vogel\n",
    "\n",
    "TODO:\n",
    "- Add optimization and change derivatives to compute optimal parameters before plotting\n",
    "- Add efficient computation of total variational derivative \n",
    "- Add support for standard spectral filters in spectral derivatives\n",
    "- Add Sobolev gradient\n",
    "- Derivatives using JAX or other automatic differentiation tool with python natives"
   ]
  },
  {
   "cell_type": "markdown",
   "metadata": {
    "heading_collapsed": true
   },
   "source": [
    "# Load"
   ]
  },
  {
   "cell_type": "code",
   "execution_count": null,
   "metadata": {
    "ExecuteTime": {
     "end_time": "2020-03-19T21:37:02.699942Z",
     "start_time": "2020-03-19T21:37:02.204311Z"
    },
    "hidden": true
   },
   "outputs": [],
   "source": [
    "%matplotlib inline"
   ]
  },
  {
   "cell_type": "code",
   "execution_count": null,
   "metadata": {
    "ExecuteTime": {
     "end_time": "2020-03-19T21:37:04.025184Z",
     "start_time": "2020-03-19T21:37:03.312271Z"
    },
    "hidden": true
   },
   "outputs": [],
   "source": [
    "import numpy as np\n",
    "import matplotlib.pyplot as plt\n",
    "from mpl_toolkits.mplot3d import Axes3D\n",
    "import scipy as sp\n",
    "from scipy import interpolate, fftpack, integrate, stats"
   ]
  },
  {
   "cell_type": "code",
   "execution_count": null,
   "metadata": {
    "ExecuteTime": {
     "end_time": "2020-03-19T21:37:04.425999Z",
     "start_time": "2020-03-19T21:37:04.419960Z"
    },
    "hidden": true
   },
   "outputs": [],
   "source": [
    "import matplotlib as mpl\n",
    "mpl.rcParams['lines.markersize'] = 6\n",
    "mpl.rcParams['scatter.marker'] = '.'"
   ]
  },
  {
   "cell_type": "code",
   "execution_count": null,
   "metadata": {
    "ExecuteTime": {
     "end_time": "2020-03-19T21:37:04.999657Z",
     "start_time": "2020-03-19T21:37:04.995071Z"
    },
    "hidden": true
   },
   "outputs": [],
   "source": [
    "from importlib import import_module, reload"
   ]
  },
  {
   "cell_type": "code",
   "execution_count": null,
   "metadata": {
    "ExecuteTime": {
     "end_time": "2020-03-19T21:37:05.563327Z",
     "start_time": "2020-03-19T21:37:05.549768Z"
    },
    "hidden": true
   },
   "outputs": [],
   "source": [
    "diff = import_module('differentiation')"
   ]
  },
  {
   "cell_type": "markdown",
   "metadata": {},
   "source": [
    "# Examples"
   ]
  },
  {
   "cell_type": "code",
   "execution_count": null,
   "metadata": {
    "ExecuteTime": {
     "end_time": "2020-03-20T00:22:13.458946Z",
     "start_time": "2020-03-20T00:22:13.447469Z"
    }
   },
   "outputs": [],
   "source": [
    "# All the derivative functions are stored here\n",
    "diff = reload(diff)"
   ]
  },
  {
   "cell_type": "markdown",
   "metadata": {
    "heading_collapsed": true
   },
   "source": [
    "## Example 1: Sine"
   ]
  },
  {
   "cell_type": "markdown",
   "metadata": {
    "heading_collapsed": true,
    "hidden": true
   },
   "source": [
    "### Setup"
   ]
  },
  {
   "cell_type": "code",
   "execution_count": null,
   "metadata": {
    "ExecuteTime": {
     "end_time": "2020-03-19T21:37:17.610395Z",
     "start_time": "2020-03-19T21:37:17.598380Z"
    },
    "hidden": true
   },
   "outputs": [],
   "source": [
    "def plot_example_1(diff_method, t, data_f, res_f, sigmas):\n",
    "    fig, ax = plt.subplots(1, len(sigmas), figsize=[len(sigmas)*4, 3])\n",
    "    indices = np.arange(len(t))\n",
    "    \n",
    "    for axs, s in zip(ax, sigmas):\n",
    "        res = list(diff_method.compute_for(t, data_f(t, s), indices))\n",
    "        axs.plot(t, res)\n",
    "        axs.plot(t, res_f(t))\n",
    "        axs.set_title(\"Noise: $\\sigma$={}\".format(s))\n",
    "\n",
    "def noisy_sin(x, sigma):\n",
    "    '''Sine with gaussian noise.'''\n",
    "    return np.sin(x) + np.random.normal(loc=0, scale=sigma, size=x.shape)"
   ]
  },
  {
   "cell_type": "code",
   "execution_count": null,
   "metadata": {
    "ExecuteTime": {
     "end_time": "2020-03-19T21:37:20.737068Z",
     "start_time": "2020-03-19T21:37:20.193041Z"
    },
    "hidden": true
   },
   "outputs": [],
   "source": [
    "sigmas = [0, 0.01, 0.1, .5]\n",
    "fig, ax = plt.subplots(1, len(sigmas), figsize=[len(sigmas)*4, 3])\n",
    "\n",
    "x = np.linspace(0, 2*np.pi, 500)\n",
    "for axs, s in zip(ax, sigmas): \n",
    "    axs.scatter(x, noisy_sin(x, s))\n",
    "    axs.set_title(\"Noise: $\\sigma$={}\".format(s))"
   ]
  },
  {
   "cell_type": "markdown",
   "metadata": {
    "heading_collapsed": true,
    "hidden": true
   },
   "source": [
    "### Finite differences"
   ]
  },
  {
   "cell_type": "code",
   "execution_count": null,
   "metadata": {
    "ExecuteTime": {
     "end_time": "2020-03-19T21:37:27.432593Z",
     "start_time": "2020-03-19T21:37:26.998746Z"
    },
    "hidden": true
   },
   "outputs": [],
   "source": [
    "fd = diff.FiniteDifference({'k': 3})\n",
    "plot_example_1(fd, x, noisy_sin, np.cos, sigmas)"
   ]
  },
  {
   "cell_type": "markdown",
   "metadata": {
    "heading_collapsed": true,
    "hidden": true
   },
   "source": [
    "### Savitzky-Golay Filter\n",
    "The window size is a hyper-parameter."
   ]
  },
  {
   "cell_type": "code",
   "execution_count": null,
   "metadata": {
    "ExecuteTime": {
     "end_time": "2020-03-19T21:37:32.363449Z",
     "start_time": "2020-03-19T21:37:31.728349Z"
    },
    "hidden": true
   },
   "outputs": [],
   "source": [
    "sg = diff.SavitzkyGolay({'left': .5, 'right': .5, 'order': 2})\n",
    "plot_example_1(sg, x, noisy_sin, np.cos, sigmas)"
   ]
  },
  {
   "cell_type": "markdown",
   "metadata": {
    "heading_collapsed": true,
    "hidden": true
   },
   "source": [
    "### Splines\n",
    "Smoothing is a hyper-parameter. The Spline functions have re-run functionality built-in so cross-validation should take advantage of this. Also, the data may benefit greatly from binning and re-weighting (weights are an available parameter--they change the definition of the loss function)."
   ]
  },
  {
   "cell_type": "code",
   "execution_count": null,
   "metadata": {
    "ExecuteTime": {
     "end_time": "2020-03-19T21:37:41.838281Z",
     "start_time": "2020-03-19T21:37:40.158391Z"
    },
    "hidden": true
   },
   "outputs": [],
   "source": [
    "spl = diff.Spline({'smoothing': 1})\n",
    "plot_example_1(spl, x, noisy_sin, np.cos, sigmas)\n",
    "\n",
    "spl = diff.Spline({'smoothing': 1, 'periodic': True})\n",
    "plot_example_1(spl, x, noisy_sin, np.cos, sigmas)\n",
    "spl = diff.Spline({'smoothing': 5, 'periodic': True})\n",
    "plot_example_1(spl, x, noisy_sin, np.cos, sigmas)\n",
    "spl = diff.Spline({'smoothing': 139, 'periodic': True})\n",
    "plot_example_1(spl, x, noisy_sin, np.cos, sigmas)"
   ]
  },
  {
   "cell_type": "markdown",
   "metadata": {
    "heading_collapsed": true,
    "hidden": true
   },
   "source": [
    "### Spectral method\n",
    "Add your own filter!"
   ]
  },
  {
   "cell_type": "code",
   "execution_count": null,
   "metadata": {
    "ExecuteTime": {
     "end_time": "2020-03-19T21:38:00.212498Z",
     "start_time": "2020-03-19T21:37:59.429364Z"
    },
    "hidden": true
   },
   "outputs": [],
   "source": [
    "no_filter =  diff.Spectral({})\n",
    "yes_filter = diff.Spectral({'filter': np.vectorize(lambda f: 1 if abs(f) < 1 else 0)})\n",
    "\n",
    "plot_example_1(no_filter, x, noisy_sin, np.cos, sigmas)\n",
    "plot_example_1(yes_filter, x, noisy_sin, np.cos, sigmas)"
   ]
  },
  {
   "cell_type": "markdown",
   "metadata": {
    "hidden": true
   },
   "source": [
    "### Total Variational Derivative"
   ]
  },
  {
   "cell_type": "code",
   "execution_count": null,
   "metadata": {
    "ExecuteTime": {
     "end_time": "2020-03-20T00:22:38.329933Z",
     "start_time": "2020-03-20T00:22:37.219211Z"
    },
    "hidden": true
   },
   "outputs": [],
   "source": [
    "tvd =  diff.TotalVariation({'alpha': 0.02})\n",
    "plot_example_1(tvd, x, noisy_sin, np.cos, sigmas)\n",
    "\n",
    "tvd =  diff.TotalVariation({'alpha': 0.2})\n",
    "plot_example_1(tvd, x, noisy_sin, np.cos, sigmas)"
   ]
  },
  {
   "cell_type": "markdown",
   "metadata": {
    "heading_collapsed": true
   },
   "source": [
    "## Example 2: Lorenz system\n",
    "Inspect the differentiation of the x-component of the Lorenz oscillator."
   ]
  },
  {
   "cell_type": "markdown",
   "metadata": {
    "hidden": true
   },
   "source": [
    "### Setup"
   ]
  },
  {
   "cell_type": "code",
   "execution_count": null,
   "metadata": {
    "ExecuteTime": {
     "end_time": "2020-03-20T00:23:06.918929Z",
     "start_time": "2020-03-20T00:23:06.896992Z"
    },
    "code_folding": [],
    "hidden": true
   },
   "outputs": [],
   "source": [
    "class lorenz:\n",
    "    '''Simulate the Lorenz system:\n",
    "        x'=sigma(y-x)\n",
    "        y'=Rx-y-xz\n",
    "        z'=-bz+xy\n",
    "    '''\n",
    "    def __init__(self, sigma, R, b, noise=0):\n",
    "        self.t = np.array([])\n",
    "        self.x = np.array([])\n",
    "        self.sigma,self.R,self.b = sigma,R,b\n",
    "        self.noise = noise\n",
    "    def f(self, t, x):\n",
    "        x1,x2,x3 = x\n",
    "        return [self.sigma*(x2-x1), self.R*x1-x2-x1*x3, -self.b*x3+x1*x2]\n",
    "    def simulate(self, t0, x0, t_bound, max_step=np.inf):\n",
    "        self.solver = sp.integrate.RK45(self.f, t0, x0, t_bound, max_step=max_step)\n",
    "        if self.t.size > 0:\n",
    "            self.t = np.hstack((self.t, t0))\n",
    "        else:\n",
    "            self.t = t0\n",
    "        if self.x.size > 0:\n",
    "            self.x = np.hstack((self.x, x0))\n",
    "        else:\n",
    "            self.x = x0\n",
    "        while self.solver.status == 'running':\n",
    "            self.solver.step()\n",
    "            self.t = np.hstack((self.t, self.solver.t))\n",
    "            self.x = np.vstack((self.x, self.solver.y)) + np.random.normal(scale=self.noise)"
   ]
  },
  {
   "cell_type": "code",
   "execution_count": null,
   "metadata": {
    "ExecuteTime": {
     "end_time": "2020-03-20T00:23:08.106351Z",
     "start_time": "2020-03-20T00:23:07.535291Z"
    },
    "hidden": true
   },
   "outputs": [],
   "source": [
    "l = lorenz(10, 28, 8/3)\n",
    "l.simulate(0, -20*np.random.rand(3), 100)\n",
    "\n",
    "fig = plt.figure()\n",
    "ax = fig.add_subplot(111, projection='3d')\n",
    "ax.plot(l.x[:,0], l.x[:,1], l.x[:,2], color='k', marker='.', lw=0.5, alpha=0.75)"
   ]
  },
  {
   "cell_type": "code",
   "execution_count": null,
   "metadata": {
    "ExecuteTime": {
     "end_time": "2020-03-20T00:23:09.415144Z",
     "start_time": "2020-03-20T00:23:08.677337Z"
    },
    "hidden": true
   },
   "outputs": [],
   "source": [
    "x0 = 2*np.random.rand(3)-1\n",
    "sigmas = [0, .01, .1, .5]\n",
    "\n",
    "fig, ax = plt.subplots(1, len(sigmas), figsize=[len(sigmas)*4, 3])\n",
    "l_data = {}\n",
    "l_true = {}\n",
    "# Note: sigma usage is redundant, sigmas are noise and l.sigma is the lorenz param.\n",
    "for i, s in enumerate(sigmas):\n",
    "    l = lorenz(1, 28, 8/3, s)\n",
    "    l.simulate(0, x0, 4, 0.01)\n",
    "    l_data[s] = sp.interpolate.interp1d(l.t, l.x[:, 0])\n",
    "    l_true[s] = sp.interpolate.interp1d(l.t[1:], l.sigma*(l.x[:-1,1]-l.x[:-1,0]), fill_value='extrapolate')\n",
    "    \n",
    "    ax[i].scatter(l.t, l.x[:,0])\n",
    "    ax[i].set_title(\"Noise: $\\sigma$={}\".format(s))\n",
    "\n",
    "def plot_example_2(diff_method, t, data, true, sigmas):\n",
    "    fig, ax = plt.subplots(1, len(sigmas), figsize=[len(sigmas)*4, 3])\n",
    "    indices = np.arange(len(t))\n",
    "    \n",
    "    for axs, s in zip(ax, sigmas):\n",
    "        res = list(diff_method.compute_for(t, data[s](t), indices))\n",
    "        axs.plot(t, res)\n",
    "        axs.plot(t, true[s](t))\n",
    "        axs.set_title(\"Noise: $\\sigma$={}\".format(s))"
   ]
  },
  {
   "cell_type": "markdown",
   "metadata": {
    "hidden": true
   },
   "source": [
    "### Finite differences"
   ]
  },
  {
   "cell_type": "code",
   "execution_count": null,
   "metadata": {
    "ExecuteTime": {
     "end_time": "2020-03-20T00:23:11.544477Z",
     "start_time": "2020-03-20T00:23:11.097801Z"
    },
    "hidden": true
   },
   "outputs": [],
   "source": [
    "plot_example_2(fd, l.t, l_data, l_true, sigmas)"
   ]
  },
  {
   "cell_type": "markdown",
   "metadata": {
    "hidden": true
   },
   "source": [
    "### Savitzky-Golay Filter"
   ]
  },
  {
   "cell_type": "code",
   "execution_count": null,
   "metadata": {
    "ExecuteTime": {
     "end_time": "2020-03-20T00:23:14.260584Z",
     "start_time": "2020-03-20T00:23:13.751235Z"
    },
    "hidden": true
   },
   "outputs": [],
   "source": [
    "sg = diff.SavitzkyGolay({'left': .2, 'right': .2, 'order': 3})\n",
    "plot_example_2(sg, l.t, l_data, l_true, sigmas)"
   ]
  },
  {
   "cell_type": "markdown",
   "metadata": {
    "hidden": true
   },
   "source": [
    "### Splines"
   ]
  },
  {
   "cell_type": "code",
   "execution_count": null,
   "metadata": {
    "ExecuteTime": {
     "end_time": "2020-03-20T00:23:16.924825Z",
     "start_time": "2020-03-20T00:23:15.935616Z"
    },
    "hidden": true
   },
   "outputs": [],
   "source": [
    "spl = diff.Spline({'smoothing': 1})\n",
    "plot_example_2(spl, l.t, l_data, l_true, sigmas)\n",
    "spl = diff.Spline({'smoothing': 10})\n",
    "plot_example_2(spl, l.t, l_data, l_true, sigmas)"
   ]
  },
  {
   "cell_type": "markdown",
   "metadata": {
    "hidden": true
   },
   "source": [
    "### Spectral method"
   ]
  },
  {
   "cell_type": "code",
   "execution_count": null,
   "metadata": {
    "ExecuteTime": {
     "end_time": "2020-03-20T00:23:19.610200Z",
     "start_time": "2020-03-20T00:23:18.393505Z"
    },
    "hidden": true
   },
   "outputs": [],
   "source": [
    "no_filter =  diff.Spectral({})\n",
    "plot_example_2(no_filter, l.t, l_data, l_true, sigmas)\n",
    "[iax.set_xlim([.2,3.8]) for iax in plt.gcf().axes]\n",
    "[iax.set_ylim([-20,20]) for iax in plt.gcf().axes]\n",
    "\n",
    "yes_filter = diff.Spectral({'filter': np.vectorize(lambda f: 1 if abs(f) < 3 else 0)})\n",
    "plot_example_2(yes_filter, l.t, l_data, l_true, sigmas)\n",
    "\n",
    "yes_filter = diff.Spectral({'filter': np.vectorize(lambda f: 1 if abs(f) < 1 else 0)})\n",
    "plot_example_2(yes_filter, l.t, l_data, l_true, sigmas)"
   ]
  },
  {
   "cell_type": "markdown",
   "metadata": {
    "hidden": true
   },
   "source": [
    "### Total Variational Derivative"
   ]
  },
  {
   "cell_type": "code",
   "execution_count": null,
   "metadata": {
    "ExecuteTime": {
     "end_time": "2020-03-20T00:24:47.119740Z",
     "start_time": "2020-03-20T00:24:46.111785Z"
    },
    "hidden": true
   },
   "outputs": [],
   "source": [
    "tvd =  diff.TotalVariation({'alpha': 1e-5})\n",
    "plot_example_2(tvd, l.t, l_data, l_true, sigmas)\n",
    "\n",
    "tvd =  diff.TotalVariation({'alpha': 1e-3})\n",
    "plot_example_2(tvd, l.t, l_data, l_true, sigmas)"
   ]
  },
  {
   "cell_type": "code",
   "execution_count": null,
   "metadata": {
    "hidden": true
   },
   "outputs": [],
   "source": []
  }
 ],
 "metadata": {
  "kernelspec": {
   "display_name": "Python 3",
   "language": "python",
   "name": "python3"
  },
  "language_info": {
   "codemirror_mode": {
    "name": "ipython",
    "version": 3
   },
   "file_extension": ".py",
   "mimetype": "text/x-python",
   "name": "python",
   "nbconvert_exporter": "python",
   "pygments_lexer": "ipython3",
   "version": "3.7.4"
  },
  "latex_envs": {
   "LaTeX_envs_menu_present": true,
   "autoclose": false,
   "autocomplete": true,
   "bibliofile": "biblio.bib",
   "cite_by": "apalike",
   "current_citInitial": 1,
   "eqLabelWithNumbers": true,
   "eqNumInitial": 1,
   "hotkeys": {
    "equation": "Ctrl-E",
    "itemize": "Ctrl-I"
   },
   "labels_anchors": false,
   "latex_user_defs": false,
   "report_style_numbering": false,
   "user_envs_cfg": false
  },
  "toc": {
   "base_numbering": 1,
   "nav_menu": {},
   "number_sections": true,
   "sideBar": true,
   "skip_h1_title": false,
   "title_cell": "Table of Contents",
   "title_sidebar": "Contents",
   "toc_cell": false,
   "toc_position": {
    "height": "calc(100% - 180px)",
    "left": "10px",
    "top": "150px",
    "width": "319.826px"
   },
   "toc_section_display": true,
   "toc_window_display": true
  },
  "varInspector": {
   "cols": {
    "lenName": 16,
    "lenType": 16,
    "lenVar": 40
   },
   "kernels_config": {
    "python": {
     "delete_cmd_postfix": "",
     "delete_cmd_prefix": "del ",
     "library": "var_list.py",
     "varRefreshCmd": "print(var_dic_list())"
    },
    "r": {
     "delete_cmd_postfix": ") ",
     "delete_cmd_prefix": "rm(",
     "library": "var_list.r",
     "varRefreshCmd": "cat(var_dic_list()) "
    }
   },
   "types_to_exclude": [
    "module",
    "function",
    "builtin_function_or_method",
    "instance",
    "_Feature"
   ],
   "window_display": false
  }
 },
 "nbformat": 4,
 "nbformat_minor": 2
}
