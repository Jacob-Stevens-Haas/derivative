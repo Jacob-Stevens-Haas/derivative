{
 "cells": [
  {
   "cell_type": "code",
   "execution_count": null,
   "metadata": {
    "ExecuteTime": {
     "end_time": "2020-05-05T00:18:14.612050Z",
     "start_time": "2020-05-05T00:18:14.095370Z"
    }
   },
   "outputs": [],
   "source": [
    "%matplotlib inline"
   ]
  },
  {
   "cell_type": "code",
   "execution_count": null,
   "metadata": {
    "ExecuteTime": {
     "end_time": "2020-05-05T00:18:15.351345Z",
     "start_time": "2020-05-05T00:18:14.617168Z"
    }
   },
   "outputs": [],
   "source": [
    "import numpy as np\n",
    "import scipy as sp\n",
    "from scipy import interpolate, fftpack, integrate, stats, sparse\n",
    "from sys import path\n",
    "\n",
    "import matplotlib.pyplot as plt\n",
    "import matplotlib as mpl\n",
    "mpl.rcParams['lines.markersize'] = 6\n",
    "mpl.rcParams['scatter.marker'] = '.'"
   ]
  },
  {
   "cell_type": "code",
   "execution_count": null,
   "metadata": {
    "ExecuteTime": {
     "end_time": "2020-05-05T00:18:15.834536Z",
     "start_time": "2020-05-05T00:18:15.362274Z"
    }
   },
   "outputs": [],
   "source": [
    "path.append('../../')\n",
    "from primelab import *"
   ]
  },
  {
   "cell_type": "code",
   "execution_count": null,
   "metadata": {
    "ExecuteTime": {
     "end_time": "2020-05-05T00:18:15.860511Z",
     "start_time": "2020-05-05T00:18:15.846331Z"
    }
   },
   "outputs": [],
   "source": [
    "def plot_example(diff_method, t, data_f, res_f, sigmas):\n",
    "    fig, axes = plt.subplots(1, len(sigmas), figsize=[len(sigmas)*4, 3])\n",
    "    \n",
    "    res = diff_method.d(np.vstack([data_f(t, s) for s in sigmas]), t)\n",
    "    for i, s in enumerate(sigmas):\n",
    "        axes[i].plot(t, res[i])\n",
    "        axes[i].plot(t, res_f(t))\n",
    "        axes[i].set_title(\"Noise: $\\sigma$={}\".format(s))"
   ]
  },
  {
   "cell_type": "markdown",
   "metadata": {},
   "source": [
    "## Example 1: Smooth derivative"
   ]
  },
  {
   "cell_type": "code",
   "execution_count": null,
   "metadata": {
    "ExecuteTime": {
     "end_time": "2020-05-05T00:18:16.824639Z",
     "start_time": "2020-05-05T00:18:15.868294Z"
    }
   },
   "outputs": [],
   "source": [
    "def noisy_sin(x, sigma):\n",
    "    '''Sine with gaussian noise.'''\n",
    "    np.random.seed(17)\n",
    "    return np.sin(x) + np.random.normal(loc=0, scale=sigma, size=x.shape)\n",
    "\n",
    "sigmas = [0, 0.01, 0.1]\n",
    "fig, ax = plt.subplots(1, len(sigmas), figsize=[len(sigmas)*4, 3])\n",
    "\n",
    "x = np.linspace(0, 2*np.pi, 50)\n",
    "for axs, s in zip(ax, sigmas): \n",
    "    axs.scatter(x, noisy_sin(x, s))\n",
    "    axs.set_title(\"Noise: $\\sigma$={}\".format(s))"
   ]
  },
  {
   "cell_type": "markdown",
   "metadata": {},
   "source": [
    "### Finite differences"
   ]
  },
  {
   "cell_type": "code",
   "execution_count": null,
   "metadata": {
    "ExecuteTime": {
     "end_time": "2020-05-05T00:18:17.542331Z",
     "start_time": "2020-05-05T00:18:16.833408Z"
    }
   },
   "outputs": [],
   "source": [
    "fd = FiniteDifference(3, symmetric=True)\n",
    "plot_example(fd, x, noisy_sin, np.cos, sigmas)"
   ]
  },
  {
   "cell_type": "markdown",
   "metadata": {},
   "source": [
    "### Savitzky-Golay filter\n",
    "The window size is a hyper-parameter."
   ]
  },
  {
   "cell_type": "code",
   "execution_count": null,
   "metadata": {
    "ExecuteTime": {
     "end_time": "2020-05-05T00:18:18.562380Z",
     "start_time": "2020-05-05T00:18:17.545511Z"
    }
   },
   "outputs": [],
   "source": [
    "sg = SavitzkyGolay(left=.5, right=.5, order=2)\n",
    "plot_example(sg, x, noisy_sin, np.cos, sigmas)\n",
    "\n",
    "sg = SavitzkyGolay(left=3, right=3, order=3)\n",
    "plot_example(sg, x, noisy_sin, np.cos, sigmas)"
   ]
  },
  {
   "cell_type": "markdown",
   "metadata": {},
   "source": [
    "### Splines\n",
    "Smoothing is a hyper-parameter. The Spline functions have re-run functionality built-in so cross-validation should take advantage of this. Also, the data may benefit greatly from binning and re-weighting (weights are an available parameter--they change the definition of the loss function)."
   ]
  },
  {
   "cell_type": "code",
   "execution_count": null,
   "metadata": {
    "ExecuteTime": {
     "end_time": "2020-05-05T00:18:20.428367Z",
     "start_time": "2020-05-05T00:18:18.583504Z"
    }
   },
   "outputs": [],
   "source": [
    "spl = Spline(.5)\n",
    "plot_example(spl, x, noisy_sin, np.cos, sigmas)\n",
    "spl = Spline(.5, periodic=True)\n",
    "plot_example(spl, x, noisy_sin, np.cos, sigmas)\n",
    "spl = Spline(5, periodic=True)\n",
    "plot_example(spl, x, noisy_sin, np.cos, sigmas)"
   ]
  },
  {
   "cell_type": "markdown",
   "metadata": {},
   "source": [
    "### Spectral method\n",
    "Add your own filter!"
   ]
  },
  {
   "cell_type": "code",
   "execution_count": null,
   "metadata": {
    "ExecuteTime": {
     "end_time": "2020-05-05T00:18:21.627561Z",
     "start_time": "2020-05-05T00:18:20.436037Z"
    }
   },
   "outputs": [],
   "source": [
    "no_filter = Spectral()\n",
    "yes_filter = Spectral(filter=np.vectorize(lambda f: 1 if abs(f) < 0.5 else 0))\n",
    "\n",
    "plot_example(no_filter, x, noisy_sin, np.cos, sigmas)\n",
    "plot_example(yes_filter, x, noisy_sin, np.cos, sigmas)"
   ]
  },
  {
   "cell_type": "markdown",
   "metadata": {},
   "source": [
    "### Trend-filtered"
   ]
  },
  {
   "cell_type": "code",
   "execution_count": null,
   "metadata": {
    "ExecuteTime": {
     "end_time": "2020-05-05T00:18:24.224519Z",
     "start_time": "2020-05-05T00:18:21.633647Z"
    }
   },
   "outputs": [],
   "source": [
    "tvd = TrendFiltered(alpha=1e-3, order=0, max_iter=1e6)\n",
    "plot_example(tvd, x, noisy_sin, np.cos, sigmas)\n",
    "\n",
    "tvd = TrendFiltered(alpha=1e-3, order=1, max_iter=1e6)\n",
    "plot_example(tvd, x, noisy_sin, np.cos, sigmas)\n",
    "\n",
    "tvd = TrendFiltered(alpha=1e-3, order=2, max_iter=1e6)\n",
    "plot_example(tvd, x, noisy_sin, np.cos, sigmas)"
   ]
  },
  {
   "cell_type": "markdown",
   "metadata": {},
   "source": [
    "## Example 2: Derivative with jump"
   ]
  },
  {
   "cell_type": "code",
   "execution_count": null,
   "metadata": {
    "ExecuteTime": {
     "end_time": "2020-05-05T00:18:25.028282Z",
     "start_time": "2020-05-05T00:18:24.226746Z"
    }
   },
   "outputs": [],
   "source": [
    "def noisy_abs(x, sigma):\n",
    "    '''Sine with gaussian noise.'''\n",
    "    np.random.seed(17)\n",
    "    return np.abs(x) + np.random.normal(loc=0, scale=sigma, size=x.shape)\n",
    "\n",
    "d_abs = lambda x: x/abs(x)\n",
    "\n",
    "sigmas = [0, 0.01, 0.1]\n",
    "fig, ax = plt.subplots(1, len(sigmas), figsize=[len(sigmas)*4, 3])\n",
    "\n",
    "x = np.linspace(-1, 1, 50)\n",
    "for axs, s in zip(ax, sigmas): \n",
    "    axs.scatter(x, noisy_abs(x, s))\n",
    "    axs.set_title(\"Noise: $\\sigma$={}\".format(s))"
   ]
  },
  {
   "cell_type": "markdown",
   "metadata": {},
   "source": [
    "### Finite differences"
   ]
  },
  {
   "cell_type": "code",
   "execution_count": null,
   "metadata": {
    "ExecuteTime": {
     "end_time": "2020-05-05T00:18:25.538278Z",
     "start_time": "2020-05-05T00:18:25.039440Z"
    }
   },
   "outputs": [],
   "source": [
    "fd = FiniteDifference(k=3)\n",
    "plot_example(fd, x, noisy_abs, d_abs, sigmas)"
   ]
  },
  {
   "cell_type": "markdown",
   "metadata": {},
   "source": [
    "### Savitzky-Galoy filter"
   ]
  },
  {
   "cell_type": "code",
   "execution_count": null,
   "metadata": {
    "ExecuteTime": {
     "end_time": "2020-05-05T00:18:27.048844Z",
     "start_time": "2020-05-05T00:18:25.540677Z"
    }
   },
   "outputs": [],
   "source": [
    "sg = SavitzkyGolay(left=.5, right=.5, order=2)\n",
    "plot_example(sg, x, noisy_abs, d_abs, sigmas)\n",
    "\n",
    "sg = SavitzkyGolay(left=3, right=3, order=3)\n",
    "plot_example(sg, x, noisy_abs, d_abs, sigmas)"
   ]
  },
  {
   "cell_type": "markdown",
   "metadata": {},
   "source": [
    "### Splines"
   ]
  },
  {
   "cell_type": "code",
   "execution_count": null,
   "metadata": {
    "ExecuteTime": {
     "end_time": "2020-05-05T00:18:27.904327Z",
     "start_time": "2020-05-05T00:18:27.051874Z"
    }
   },
   "outputs": [],
   "source": [
    "spl = Spline(.1)\n",
    "plot_example(spl, x, noisy_abs, d_abs, sigmas)"
   ]
  },
  {
   "cell_type": "markdown",
   "metadata": {},
   "source": [
    "### Spectral Method"
   ]
  },
  {
   "cell_type": "code",
   "execution_count": null,
   "metadata": {
    "ExecuteTime": {
     "end_time": "2020-05-05T00:18:29.086280Z",
     "start_time": "2020-05-05T00:18:27.918649Z"
    }
   },
   "outputs": [],
   "source": [
    "no_filter = Spectral()\n",
    "yes_filter = Spectral(filter=np.vectorize(lambda f: 1 if abs(f) < 1 else 0))\n",
    "\n",
    "plot_example(no_filter, x, noisy_abs, d_abs, sigmas)\n",
    "plot_example(yes_filter, x, noisy_abs, d_abs, sigmas)"
   ]
  },
  {
   "cell_type": "markdown",
   "metadata": {},
   "source": [
    "### Trend-filtered"
   ]
  },
  {
   "cell_type": "code",
   "execution_count": null,
   "metadata": {
    "ExecuteTime": {
     "end_time": "2020-05-05T00:18:29.784671Z",
     "start_time": "2020-05-05T00:18:29.099373Z"
    }
   },
   "outputs": [],
   "source": [
    "tvd = TrendFiltered(alpha=1e-3, order=0, max_iter=1e5)\n",
    "plot_example(tvd, x, noisy_abs, d_abs, sigmas)"
   ]
  }
 ],
 "metadata": {
  "kernelspec": {
   "display_name": "Python 3",
   "language": "python",
   "name": "python3"
  },
  "language_info": {
   "codemirror_mode": {
    "name": "ipython",
    "version": 3
   },
   "file_extension": ".py",
   "mimetype": "text/x-python",
   "name": "python",
   "nbconvert_exporter": "python",
   "pygments_lexer": "ipython3",
   "version": "3.7.6"
  },
  "latex_envs": {
   "LaTeX_envs_menu_present": true,
   "autoclose": false,
   "autocomplete": true,
   "bibliofile": "biblio.bib",
   "cite_by": "apalike",
   "current_citInitial": 1,
   "eqLabelWithNumbers": true,
   "eqNumInitial": 1,
   "hotkeys": {
    "equation": "Ctrl-E",
    "itemize": "Ctrl-I"
   },
   "labels_anchors": false,
   "latex_user_defs": false,
   "report_style_numbering": false,
   "user_envs_cfg": false
  },
  "toc": {
   "base_numbering": 1,
   "nav_menu": {},
   "number_sections": true,
   "sideBar": true,
   "skip_h1_title": false,
   "title_cell": "Table of Contents",
   "title_sidebar": "Contents",
   "toc_cell": false,
   "toc_position": {
    "height": "calc(100% - 180px)",
    "left": "10px",
    "top": "150px",
    "width": "319.809px"
   },
   "toc_section_display": true,
   "toc_window_display": true
  },
  "varInspector": {
   "cols": {
    "lenName": 16,
    "lenType": 16,
    "lenVar": 40
   },
   "kernels_config": {
    "python": {
     "delete_cmd_postfix": "",
     "delete_cmd_prefix": "del ",
     "library": "var_list.py",
     "varRefreshCmd": "print(var_dic_list())"
    },
    "r": {
     "delete_cmd_postfix": ") ",
     "delete_cmd_prefix": "rm(",
     "library": "var_list.r",
     "varRefreshCmd": "cat(var_dic_list()) "
    }
   },
   "types_to_exclude": [
    "module",
    "function",
    "builtin_function_or_method",
    "instance",
    "_Feature"
   ],
   "window_display": false
  }
 },
 "nbformat": 4,
 "nbformat_minor": 2
}
