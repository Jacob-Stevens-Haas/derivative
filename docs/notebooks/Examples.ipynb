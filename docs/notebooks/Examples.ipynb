{
 "cells": [
  {
   "cell_type": "code",
   "execution_count": null,
   "metadata": {
    "ExecuteTime": {
     "end_time": "2020-03-25T22:52:17.154612Z",
     "start_time": "2020-03-25T22:52:17.144742Z"
    }
   },
   "outputs": [],
   "source": [
    "%matplotlib inline"
   ]
  },
  {
   "cell_type": "code",
   "execution_count": null,
   "metadata": {
    "ExecuteTime": {
     "end_time": "2020-03-25T22:52:17.366963Z",
     "start_time": "2020-03-25T22:52:17.356998Z"
    }
   },
   "outputs": [],
   "source": [
    "import numpy as np\n",
    "import scipy as sp\n",
    "from scipy import interpolate, fftpack, integrate, stats, sparse\n",
    "from sys import path\n",
    "\n",
    "import matplotlib.pyplot as plt\n",
    "import matplotlib as mpl\n",
    "mpl.rcParams['lines.markersize'] = 6\n",
    "mpl.rcParams['scatter.marker'] = '.'"
   ]
  },
  {
   "cell_type": "code",
   "execution_count": null,
   "metadata": {},
   "outputs": [],
   "source": [
    "path.append('../../')\n",
    "import prime"
   ]
  },
  {
   "cell_type": "code",
   "execution_count": null,
   "metadata": {
    "ExecuteTime": {
     "end_time": "2020-03-25T23:08:08.621182Z",
     "start_time": "2020-03-25T23:08:08.614480Z"
    }
   },
   "outputs": [],
   "source": [
    "def plot_example(diff_method, t, data_f, res_f, sigmas):\n",
    "    fig, axes = plt.subplots(1, len(sigmas), figsize=[len(sigmas)*4, 3])\n",
    "    \n",
    "    res = diff_method.d(np.vstack([data_f(t, s) for s in sigmas]), t)\n",
    "    for i, s in enumerate(sigmas):\n",
    "        axes[i].plot(t, res[i])\n",
    "        axes[i].plot(t, res_f(t))\n",
    "        axes[i].set_title(\"Noise: $\\sigma$={}\".format(s))"
   ]
  },
  {
   "cell_type": "markdown",
   "metadata": {},
   "source": [
    "## Usage"
   ]
  },
  {
   "cell_type": "markdown",
   "metadata": {},
   "source": [
    "There are two ways to interact with the code. You can either import a specific Derivative object associated with the desired kind of derivative, or use the functional interface and pass the kind as an argument."
   ]
  },
  {
   "cell_type": "code",
   "execution_count": null,
   "metadata": {},
   "outputs": [],
   "source": [
    "t = np.linspace(0, 2*np.pi, 50)\n",
    "x = np.sin(t)"
   ]
  },
  {
   "cell_type": "code",
   "execution_count": null,
   "metadata": {},
   "outputs": [],
   "source": [
    "# Import a specific Derivative object associated with the desired kind of derivative\n",
    "from prime import FiniteDifference\n",
    "\n",
    "fig,ax = plt.subplots(1)\n",
    "kind = FiniteDifference(k=1)\n",
    "ax.plot(t, kind.d(x,t))"
   ]
  },
  {
   "cell_type": "code",
   "execution_count": null,
   "metadata": {},
   "outputs": [],
   "source": [
    "# Use the functional interface and pass the kind as an argument\n",
    "from prime import dxdt\n",
    "\n",
    "fig,ax = plt.subplots(1)\n",
    "ax.plot(t, dxdt(x, t, \"finite_difference\", k=1))"
   ]
  },
  {
   "cell_type": "markdown",
   "metadata": {},
   "source": [
    "## Example 1: Smooth derivative"
   ]
  },
  {
   "cell_type": "code",
   "execution_count": null,
   "metadata": {
    "ExecuteTime": {
     "end_time": "2020-03-25T22:57:27.824955Z",
     "start_time": "2020-03-25T22:57:27.818687Z"
    }
   },
   "outputs": [],
   "source": [
    "def noisy_sin(t, sigma):\n",
    "    '''Sine with gaussian noise.'''\n",
    "    np.random.seed(17)\n",
    "    return np.sin(t) + np.random.normal(loc=0, scale=sigma, size=t.shape)\n",
    "\n",
    "sigmas = [0, 0.01, 0.1]\n",
    "fig, ax = plt.subplots(1, len(sigmas), figsize=[len(sigmas)*4, 3])\n",
    "\n",
    "t = np.linspace(0, 2*np.pi, 50)\n",
    "for axs, s in zip(ax, sigmas): \n",
    "    axs.scatter(t, noisy_sin(t, s))\n",
    "    axs.set_title(\"Noise: $\\sigma$={}\".format(s))"
   ]
  },
  {
   "cell_type": "markdown",
   "metadata": {},
   "source": [
    "### Finite differences"
   ]
  },
  {
   "cell_type": "code",
   "execution_count": null,
   "metadata": {
    "ExecuteTime": {
     "end_time": "2020-03-25T23:08:12.474754Z",
     "start_time": "2020-03-25T23:08:11.970077Z"
    }
   },
   "outputs": [],
   "source": [
    "fd = prime.FiniteDifference(3, symmetric=True)\n",
    "plot_example(fd, t, noisy_sin, np.cos, sigmas)"
   ]
  },
  {
   "cell_type": "markdown",
   "metadata": {},
   "source": [
    "### Savitzky-Golay filter"
   ]
  },
  {
   "cell_type": "code",
   "execution_count": null,
   "metadata": {
    "ExecuteTime": {
     "end_time": "2020-03-25T23:08:15.637803Z",
     "start_time": "2020-03-25T23:08:14.156468Z"
    }
   },
   "outputs": [],
   "source": [
    "sg = prime.SavitzkyGolay(left=.5, right=.5, order=2)\n",
    "plot_example(sg, t, noisy_sin, np.cos, sigmas)\n",
    "\n",
    "sg = prime.SavitzkyGolay(left=3, right=3, order=3)\n",
    "plot_example(sg, t, noisy_sin, np.cos, sigmas)"
   ]
  },
  {
   "cell_type": "markdown",
   "metadata": {},
   "source": [
    "### Splines\n",
    "Smoothing is a hyper-parameter. The Spline functions have re-run functionality built-in so cross-validation should take advantage of this. Also, the data may benefit greatly from binning and re-weighting (weights are an available parameter--they change the definition of the loss function)."
   ]
  },
  {
   "cell_type": "code",
   "execution_count": null,
   "metadata": {
    "ExecuteTime": {
     "end_time": "2020-03-25T23:08:19.663218Z",
     "start_time": "2020-03-25T23:08:17.917236Z"
    }
   },
   "outputs": [],
   "source": [
    "spl = prime.Spline(.5)\n",
    "plot_example(spl, t, noisy_sin, np.cos, sigmas)\n",
    "spl = prime.Spline(.5, periodic=True)\n",
    "plot_example(spl, t, noisy_sin, np.cos, sigmas)\n",
    "spl = prime.Spline(1, periodic=True)\n",
    "plot_example(spl, t, noisy_sin, np.cos, sigmas)"
   ]
  },
  {
   "cell_type": "markdown",
   "metadata": {},
   "source": [
    "### Spectral method\n",
    "Add your own filter!"
   ]
  },
  {
   "cell_type": "code",
   "execution_count": null,
   "metadata": {
    "ExecuteTime": {
     "end_time": "2020-03-25T23:08:22.706408Z",
     "start_time": "2020-03-25T23:08:21.998725Z"
    }
   },
   "outputs": [],
   "source": [
    "no_filter =  prime.Spectral()\n",
    "yes_filter = prime.Spectral(filter=np.vectorize(lambda f: 1 if abs(f) < 0.5 else 0))\n",
    "\n",
    "plot_example(no_filter, t, noisy_sin, np.cos, sigmas)\n",
    "plot_example(yes_filter, t, noisy_sin, np.cos, sigmas)"
   ]
  },
  {
   "cell_type": "markdown",
   "metadata": {},
   "source": [
    "### Trend-filtered"
   ]
  },
  {
   "cell_type": "code",
   "execution_count": null,
   "metadata": {},
   "outputs": [],
   "source": [
    "tvd =  prime.TrendFiltered(alpha=1e-3, order=0, max_iter=1e6)\n",
    "plot_example(tvd, t, noisy_sin, np.cos, sigmas)\n",
    "\n",
    "tvd =  prime.TrendFiltered(alpha=1e-3, order=1, max_iter=1e6)\n",
    "plot_example(tvd, t, noisy_sin, np.cos, sigmas)\n",
    "\n",
    "tvd =  prime.TrendFiltered(alpha=1e-3, order=2, max_iter=1e6)\n",
    "plot_example(tvd, t, noisy_sin, np.cos, sigmas)"
   ]
  },
  {
   "cell_type": "markdown",
   "metadata": {},
   "source": [
    "## Example 2: Derivative with jump"
   ]
  },
  {
   "cell_type": "code",
   "execution_count": null,
   "metadata": {
    "ExecuteTime": {
     "end_time": "2020-03-25T23:08:44.039665Z",
     "start_time": "2020-03-25T23:08:44.032588Z"
    }
   },
   "outputs": [],
   "source": [
    "def noisy_abs(t, sigma):\n",
    "    '''Sine with gaussian noise.'''\n",
    "    np.random.seed(17)\n",
    "    return np.abs(t) + np.random.normal(loc=0, scale=sigma, size=x.shape)\n",
    "\n",
    "d_abs = lambda t: t/abs(t)\n",
    "\n",
    "sigmas = [0, 0.01, 0.1]\n",
    "fig, ax = plt.subplots(1, len(sigmas), figsize=[len(sigmas)*4, 3])\n",
    "\n",
    "t = np.linspace(-1, 1, 50)\n",
    "for axs, s in zip(ax, sigmas): \n",
    "    axs.scatter(t, noisy_abs(t, s))\n",
    "    axs.set_title(\"Noise: $\\sigma$={}\".format(s))"
   ]
  },
  {
   "cell_type": "markdown",
   "metadata": {},
   "source": [
    "### Finite differences"
   ]
  },
  {
   "cell_type": "code",
   "execution_count": null,
   "metadata": {
    "ExecuteTime": {
     "end_time": "2020-03-25T23:08:46.763052Z",
     "start_time": "2020-03-25T23:08:46.289060Z"
    }
   },
   "outputs": [],
   "source": [
    "fd = prime.FiniteDifference(k=3)\n",
    "plot_example(fd, t, noisy_abs, d_abs, sigmas)"
   ]
  },
  {
   "cell_type": "markdown",
   "metadata": {},
   "source": [
    "### Savitzky-Galoy filter"
   ]
  },
  {
   "cell_type": "code",
   "execution_count": null,
   "metadata": {
    "ExecuteTime": {
     "end_time": "2020-03-25T23:08:49.122429Z",
     "start_time": "2020-03-25T23:08:47.948831Z"
    }
   },
   "outputs": [],
   "source": [
    "sg = prime.SavitzkyGolay(left=.5, right=.5, order=2)\n",
    "plot_example(sg, t, noisy_abs, d_abs, sigmas)\n",
    "\n",
    "sg = prime.SavitzkyGolay(left=3, right=3, order=3)\n",
    "plot_example(sg, t, noisy_abs, d_abs, sigmas)"
   ]
  },
  {
   "cell_type": "markdown",
   "metadata": {},
   "source": [
    "### Splines"
   ]
  },
  {
   "cell_type": "code",
   "execution_count": null,
   "metadata": {
    "ExecuteTime": {
     "end_time": "2020-03-25T21:30:51.279530Z",
     "start_time": "2020-03-25T21:30:50.704947Z"
    }
   },
   "outputs": [],
   "source": [
    "spl = prime.Spline(.1)\n",
    "plot_example(spl, t, noisy_abs, d_abs, sigmas)"
   ]
  },
  {
   "cell_type": "markdown",
   "metadata": {},
   "source": [
    "### Spectral Method"
   ]
  },
  {
   "cell_type": "code",
   "execution_count": null,
   "metadata": {
    "ExecuteTime": {
     "end_time": "2020-03-25T21:30:52.281590Z",
     "start_time": "2020-03-25T21:30:51.283796Z"
    }
   },
   "outputs": [],
   "source": [
    "no_filter =  prime.Spectral()\n",
    "yes_filter = prime.Spectral(filter=np.vectorize(lambda f: 1 if abs(f) < 1 else 0))\n",
    "\n",
    "plot_example(no_filter, t, noisy_abs, d_abs, sigmas)\n",
    "plot_example(yes_filter, t, noisy_abs, d_abs, sigmas)"
   ]
  },
  {
   "cell_type": "markdown",
   "metadata": {},
   "source": [
    "### Trend-filtered"
   ]
  },
  {
   "cell_type": "code",
   "execution_count": null,
   "metadata": {
    "ExecuteTime": {
     "end_time": "2020-03-25T21:30:52.966158Z",
     "start_time": "2020-03-25T21:30:52.284317Z"
    }
   },
   "outputs": [],
   "source": [
    "tvd =  prime.TrendFiltered(alpha=1e-3, order=0, max_iter=1e5)\n",
    "plot_example(tvd, t, noisy_abs, d_abs, sigmas)"
   ]
  }
 ],
 "metadata": {
  "kernelspec": {
   "display_name": "Python 3",
   "language": "python",
   "name": "python3"
  },
  "language_info": {
   "codemirror_mode": {
    "name": "ipython",
    "version": 3
   },
   "file_extension": ".py",
   "mimetype": "text/x-python",
   "name": "python",
   "nbconvert_exporter": "python",
   "pygments_lexer": "ipython3",
   "version": "3.7.6"
  },
  "latex_envs": {
   "LaTeX_envs_menu_present": true,
   "autoclose": false,
   "autocomplete": true,
   "bibliofile": "biblio.bib",
   "cite_by": "apalike",
   "current_citInitial": 1,
   "eqLabelWithNumbers": true,
   "eqNumInitial": 1,
   "hotkeys": {
    "equation": "Ctrl-E",
    "itemize": "Ctrl-I"
   },
   "labels_anchors": false,
   "latex_user_defs": false,
   "report_style_numbering": false,
   "user_envs_cfg": false
  },
  "toc": {
   "base_numbering": 1,
   "nav_menu": {},
   "number_sections": true,
   "sideBar": true,
   "skip_h1_title": false,
   "title_cell": "Table of Contents",
   "title_sidebar": "Contents",
   "toc_cell": false,
   "toc_position": {
    "height": "calc(100% - 180px)",
    "left": "10px",
    "top": "150px",
    "width": "319.809px"
   },
   "toc_section_display": true,
   "toc_window_display": true
  },
  "varInspector": {
   "cols": {
    "lenName": 16,
    "lenType": 16,
    "lenVar": 40
   },
   "kernels_config": {
    "python": {
     "delete_cmd_postfix": "",
     "delete_cmd_prefix": "del ",
     "library": "var_list.py",
     "varRefreshCmd": "print(var_dic_list())"
    },
    "r": {
     "delete_cmd_postfix": ") ",
     "delete_cmd_prefix": "rm(",
     "library": "var_list.r",
     "varRefreshCmd": "cat(var_dic_list()) "
    }
   },
   "types_to_exclude": [
    "module",
    "function",
    "builtin_function_or_method",
    "instance",
    "_Feature"
   ],
   "window_display": false
  }
 },
 "nbformat": 4,
 "nbformat_minor": 2
}
