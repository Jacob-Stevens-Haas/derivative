{
 "cells": [
  {
   "cell_type": "markdown",
   "metadata": {},
   "source": [
    "The goal of this notebook is to gather common methods for differentiation for comparison across a suite of examples. \n",
    "\n",
    "References:\n",
    "\n",
    "[1] Numerical differentiation of experimental data: local versus global methods- K. Ahnert and M. Abel  \n",
    "[2] Numerical Differentiation of Noisy, Nonsmooth Data- Rick Chartrand  \n",
    "[3] The Solution Path of the Generalized LASSO- R.J. Tibshirani and J. Taylor\n",
    "\n",
    "TODO:\n",
    "- Add optimization and change derivatives to compute optimal parameters before plotting\n",
    "- Add support for standard spectral filters in spectral derivatives\n",
    "- Add Sobolev gradient\n",
    "- Derivatives using JAX or other automatic differentiation tool with python natives"
   ]
  },
  {
   "cell_type": "markdown",
   "metadata": {},
   "source": [
    "# Load"
   ]
  },
  {
   "cell_type": "code",
   "execution_count": null,
   "metadata": {
    "ExecuteTime": {
     "end_time": "2020-03-25T22:52:17.154612Z",
     "start_time": "2020-03-25T22:52:17.144742Z"
    }
   },
   "outputs": [],
   "source": [
    "%matplotlib inline"
   ]
  },
  {
   "cell_type": "code",
   "execution_count": null,
   "metadata": {
    "ExecuteTime": {
     "end_time": "2020-03-25T22:52:17.366963Z",
     "start_time": "2020-03-25T22:52:17.356998Z"
    }
   },
   "outputs": [],
   "source": [
    "import numpy as np\n",
    "import matplotlib.pyplot as plt\n",
    "from mpl_toolkits.mplot3d import Axes3D\n",
    "import scipy as sp\n",
    "from scipy import interpolate, fftpack, integrate, stats, sparse\n",
    "import warnings"
   ]
  },
  {
   "cell_type": "code",
   "execution_count": null,
   "metadata": {
    "ExecuteTime": {
     "end_time": "2020-03-25T22:52:17.829926Z",
     "start_time": "2020-03-25T22:52:17.823635Z"
    }
   },
   "outputs": [],
   "source": [
    "import matplotlib as mpl\n",
    "mpl.rcParams['lines.markersize'] = 6\n",
    "mpl.rcParams['scatter.marker'] = '.'"
   ]
  },
  {
   "cell_type": "code",
   "execution_count": null,
   "metadata": {
    "ExecuteTime": {
     "end_time": "2020-03-25T22:52:18.284828Z",
     "start_time": "2020-03-25T22:52:18.280735Z"
    }
   },
   "outputs": [],
   "source": [
    "from importlib import import_module, reload\n",
    "from sys import path"
   ]
  },
  {
   "cell_type": "code",
   "execution_count": null,
   "metadata": {},
   "outputs": [],
   "source": [
    "path.append('../../')\n",
    "import prime"
   ]
  },
  {
   "cell_type": "markdown",
   "metadata": {},
   "source": [
    "# Examples"
   ]
  },
  {
   "cell_type": "code",
   "execution_count": null,
   "metadata": {
    "ExecuteTime": {
     "end_time": "2020-03-25T23:08:08.621182Z",
     "start_time": "2020-03-25T23:08:08.614480Z"
    }
   },
   "outputs": [],
   "source": [
    "def plot_example(diff_method, t, data_f, res_f, sigmas):\n",
    "    fig, axes = plt.subplots(1, len(sigmas), figsize=[len(sigmas)*4, 3])\n",
    "    \n",
    "    res = diff_method.D(np.vstack([data_f(t, s) for s in sigmas]), t)\n",
    "    for i, s in enumerate(sigmas):\n",
    "        axes[i].plot(t, res[i])\n",
    "        axes[i].plot(t, res_f(t))\n",
    "        axes[i].set_title(\"Noise: $\\sigma$={}\".format(s))"
   ]
  },
  {
   "cell_type": "markdown",
   "metadata": {},
   "source": [
    "## Example 1: Sine"
   ]
  },
  {
   "cell_type": "code",
   "execution_count": null,
   "metadata": {
    "ExecuteTime": {
     "end_time": "2020-03-25T22:57:27.824955Z",
     "start_time": "2020-03-25T22:57:27.818687Z"
    }
   },
   "outputs": [],
   "source": [
    "def noisy_sin(x, sigma):\n",
    "    '''Sine with gaussian noise.'''\n",
    "    return np.sin(x) + np.random.normal(loc=0, scale=sigma, size=x.shape)"
   ]
  },
  {
   "cell_type": "code",
   "execution_count": null,
   "metadata": {
    "ExecuteTime": {
     "end_time": "2020-03-25T22:58:32.098683Z",
     "start_time": "2020-03-25T22:58:31.621773Z"
    }
   },
   "outputs": [],
   "source": [
    "sigmas = [0, 0.01, 0.1, .5, 1]\n",
    "fig, ax = plt.subplots(1, len(sigmas), figsize=[len(sigmas)*4, 3])\n",
    "\n",
    "x = np.linspace(0, 2*np.pi, 500)\n",
    "for axs, s in zip(ax, sigmas): \n",
    "    axs.scatter(x, noisy_sin(x, s))\n",
    "    axs.set_title(\"Noise: $\\sigma$={}\".format(s))"
   ]
  },
  {
   "cell_type": "markdown",
   "metadata": {},
   "source": [
    "### Finite differences"
   ]
  },
  {
   "cell_type": "code",
   "execution_count": null,
   "metadata": {
    "ExecuteTime": {
     "end_time": "2020-03-25T23:08:12.474754Z",
     "start_time": "2020-03-25T23:08:11.970077Z"
    }
   },
   "outputs": [],
   "source": [
    "fd = prime.FiniteDifference({'k': 3})\n",
    "plot_example(fd, x, noisy_sin, np.cos, sigmas)"
   ]
  },
  {
   "cell_type": "markdown",
   "metadata": {},
   "source": [
    "### Savitzky-Golay Filter\n",
    "The window size is a hyper-parameter."
   ]
  },
  {
   "cell_type": "code",
   "execution_count": null,
   "metadata": {
    "ExecuteTime": {
     "end_time": "2020-03-25T23:08:15.637803Z",
     "start_time": "2020-03-25T23:08:14.156468Z"
    }
   },
   "outputs": [],
   "source": [
    "sg = prime.SavitzkyGolay({'left': .5, 'right': .5, 'order': 2})\n",
    "plot_example(sg, x, noisy_sin, np.cos, sigmas)\n",
    "\n",
    "sg = prime.SavitzkyGolay({'left': 3, 'right': 3, 'order': 3})\n",
    "plot_example(sg, x, noisy_sin, np.cos, sigmas)"
   ]
  },
  {
   "cell_type": "markdown",
   "metadata": {},
   "source": [
    "### Splines\n",
    "Smoothing is a hyper-parameter. The Spline functions have re-run functionality built-in so cross-validation should take advantage of this. Also, the data may benefit greatly from binning and re-weighting (weights are an available parameter--they change the definition of the loss function)."
   ]
  },
  {
   "cell_type": "code",
   "execution_count": null,
   "metadata": {
    "ExecuteTime": {
     "end_time": "2020-03-25T23:08:19.663218Z",
     "start_time": "2020-03-25T23:08:17.917236Z"
    }
   },
   "outputs": [],
   "source": [
    "spl = prime.Spline({'smoothing': 1})\n",
    "plot_example(spl, x, noisy_sin, np.cos, sigmas)\n",
    "spl = prime.Spline({'smoothing': 1, 'periodic': True})\n",
    "plot_example(spl, x, noisy_sin, np.cos, sigmas)\n",
    "spl = prime.Spline({'smoothing': 5, 'periodic': True})\n",
    "plot_example(spl, x, noisy_sin, np.cos, sigmas)\n",
    "spl = prime.Spline({'smoothing': 139, 'periodic': True})\n",
    "plot_example(spl, x, noisy_sin, np.cos, sigmas)"
   ]
  },
  {
   "cell_type": "markdown",
   "metadata": {},
   "source": [
    "### Spectral method\n",
    "Add your own filter!"
   ]
  },
  {
   "cell_type": "code",
   "execution_count": null,
   "metadata": {
    "ExecuteTime": {
     "end_time": "2020-03-25T23:08:22.706408Z",
     "start_time": "2020-03-25T23:08:21.998725Z"
    }
   },
   "outputs": [],
   "source": [
    "no_filter =  prime.Spectral({})\n",
    "yes_filter = prime.Spectral({'filter': np.vectorize(lambda f: 1 if abs(f) < 1 else 0)})\n",
    "\n",
    "plot_example(no_filter, x, noisy_sin, np.cos, sigmas)\n",
    "plot_example(yes_filter, x, noisy_sin, np.cos, sigmas)"
   ]
  },
  {
   "cell_type": "markdown",
   "metadata": {},
   "source": [
    "### Total Variational Derivative"
   ]
  },
  {
   "cell_type": "code",
   "execution_count": null,
   "metadata": {
    "ExecuteTime": {
     "end_time": "2020-03-25T23:08:27.669766Z",
     "start_time": "2020-03-25T23:08:24.615890Z"
    }
   },
   "outputs": [],
   "source": [
    "with warnings.catch_warnings():\n",
    "    warnings.simplefilter('ignore')\n",
    "    tvd =  prime.TotalVariation({'alpha': 1e-3, 'order': 1,'lasso_params':{'tol': 0.01}})\n",
    "    plot_example(tvd, x, noisy_sin, np.cos, sigmas)\n",
    "\n",
    "    tvd =  prime.TotalVariation({'alpha': 1e-3, 'order': 2})\n",
    "    plot_example(tvd, x, noisy_sin, np.cos, sigmas)\n",
    "\n",
    "    tvd =  prime.TotalVariation({'alpha': 1e-3, 'order': 3})\n",
    "    plot_example(tvd, x, noisy_sin, np.cos, sigmas)"
   ]
  },
  {
   "cell_type": "markdown",
   "metadata": {},
   "source": [
    "## Example 2: Derivative with jump"
   ]
  },
  {
   "cell_type": "code",
   "execution_count": null,
   "metadata": {
    "ExecuteTime": {
     "end_time": "2020-03-25T23:08:44.039665Z",
     "start_time": "2020-03-25T23:08:44.032588Z"
    }
   },
   "outputs": [],
   "source": [
    "def noisy_abs(x, sigma):\n",
    "    '''Sine with gaussian noise.'''\n",
    "    return np.abs(x) + np.random.normal(loc=0, scale=sigma, size=x.shape)\n",
    "\n",
    "d_abs = lambda x: x/abs(x)"
   ]
  },
  {
   "cell_type": "code",
   "execution_count": null,
   "metadata": {
    "ExecuteTime": {
     "end_time": "2020-03-25T23:08:45.052268Z",
     "start_time": "2020-03-25T23:08:44.612521Z"
    }
   },
   "outputs": [],
   "source": [
    "sigmas = [0, 0.01, 0.1, .25, 0.5]\n",
    "fig, ax = plt.subplots(1, len(sigmas), figsize=[len(sigmas)*4, 3])\n",
    "\n",
    "x = np.linspace(-1, 1, 200)\n",
    "for axs, s in zip(ax, sigmas): \n",
    "    axs.scatter(x, noisy_abs(x, s))\n",
    "    axs.set_title(\"Noise: $\\sigma$={}\".format(s))"
   ]
  },
  {
   "cell_type": "markdown",
   "metadata": {},
   "source": [
    "### Finite differences"
   ]
  },
  {
   "cell_type": "code",
   "execution_count": null,
   "metadata": {
    "ExecuteTime": {
     "end_time": "2020-03-25T23:08:46.763052Z",
     "start_time": "2020-03-25T23:08:46.289060Z"
    }
   },
   "outputs": [],
   "source": [
    "fd = prime.FiniteDifference({'k': 3})\n",
    "plot_example(fd, x, noisy_abs, d_abs, sigmas)"
   ]
  },
  {
   "cell_type": "markdown",
   "metadata": {},
   "source": [
    "### Savitzky-Galoy Filter"
   ]
  },
  {
   "cell_type": "code",
   "execution_count": null,
   "metadata": {
    "ExecuteTime": {
     "end_time": "2020-03-25T23:08:49.122429Z",
     "start_time": "2020-03-25T23:08:47.948831Z"
    }
   },
   "outputs": [],
   "source": [
    "sg = prime.SavitzkyGolay({'left': .5, 'right': .5, 'order': 2})\n",
    "plot_example(sg, x, noisy_abs, d_abs, sigmas)\n",
    "\n",
    "sg = prime.SavitzkyGolay({'left': 3, 'right': 3, 'order': 3})\n",
    "plot_example(sg, x, noisy_abs, d_abs, sigmas)"
   ]
  },
  {
   "cell_type": "markdown",
   "metadata": {},
   "source": [
    "### Splines"
   ]
  },
  {
   "cell_type": "code",
   "execution_count": null,
   "metadata": {
    "ExecuteTime": {
     "end_time": "2020-03-25T21:30:51.279530Z",
     "start_time": "2020-03-25T21:30:50.704947Z"
    }
   },
   "outputs": [],
   "source": [
    "spl = prime.Spline({'smoothing': 1})\n",
    "plot_example(spl, x, noisy_abs, d_abs, sigmas)"
   ]
  },
  {
   "cell_type": "markdown",
   "metadata": {},
   "source": [
    "### Spectral Method"
   ]
  },
  {
   "cell_type": "code",
   "execution_count": null,
   "metadata": {
    "ExecuteTime": {
     "end_time": "2020-03-25T21:30:52.281590Z",
     "start_time": "2020-03-25T21:30:51.283796Z"
    }
   },
   "outputs": [],
   "source": [
    "no_filter =  prime.Spectral({})\n",
    "yes_filter = prime.Spectral({'filter': np.vectorize(lambda f: 1 if abs(f) < 1 else 0)})\n",
    "\n",
    "plot_example(no_filter, x, noisy_abs, d_abs, sigmas)\n",
    "plot_example(yes_filter, x, noisy_abs, d_abs, sigmas)"
   ]
  },
  {
   "cell_type": "markdown",
   "metadata": {},
   "source": [
    "### Total Variational Derivative"
   ]
  },
  {
   "cell_type": "code",
   "execution_count": null,
   "metadata": {
    "ExecuteTime": {
     "end_time": "2020-03-25T21:30:52.966158Z",
     "start_time": "2020-03-25T21:30:52.284317Z"
    }
   },
   "outputs": [],
   "source": [
    "with warnings.catch_warnings():\n",
    "    warnings.simplefilter('ignore')\n",
    "    tvd =  prime.TotalVariation({'alpha': 1e-2, 'order': 1, \n",
    "                                'lasso_params':{'tol': 0.00001}})\n",
    "    plot_example(tvd, x, noisy_abs, d_abs, sigmas)"
   ]
  }
 ],
 "metadata": {
  "kernelspec": {
   "display_name": "Python 3",
   "language": "python",
   "name": "python3"
  },
  "language_info": {
   "codemirror_mode": {
    "name": "ipython",
    "version": 3
   },
   "file_extension": ".py",
   "mimetype": "text/x-python",
   "name": "python",
   "nbconvert_exporter": "python",
   "pygments_lexer": "ipython3",
   "version": "3.7.6"
  },
  "latex_envs": {
   "LaTeX_envs_menu_present": true,
   "autoclose": false,
   "autocomplete": true,
   "bibliofile": "biblio.bib",
   "cite_by": "apalike",
   "current_citInitial": 1,
   "eqLabelWithNumbers": true,
   "eqNumInitial": 1,
   "hotkeys": {
    "equation": "Ctrl-E",
    "itemize": "Ctrl-I"
   },
   "labels_anchors": false,
   "latex_user_defs": false,
   "report_style_numbering": false,
   "user_envs_cfg": false
  },
  "toc": {
   "base_numbering": 1,
   "nav_menu": {},
   "number_sections": true,
   "sideBar": true,
   "skip_h1_title": false,
   "title_cell": "Table of Contents",
   "title_sidebar": "Contents",
   "toc_cell": false,
   "toc_position": {
    "height": "calc(100% - 180px)",
    "left": "10px",
    "top": "150px",
    "width": "319.824px"
   },
   "toc_section_display": true,
   "toc_window_display": true
  },
  "varInspector": {
   "cols": {
    "lenName": 16,
    "lenType": 16,
    "lenVar": 40
   },
   "kernels_config": {
    "python": {
     "delete_cmd_postfix": "",
     "delete_cmd_prefix": "del ",
     "library": "var_list.py",
     "varRefreshCmd": "print(var_dic_list())"
    },
    "r": {
     "delete_cmd_postfix": ") ",
     "delete_cmd_prefix": "rm(",
     "library": "var_list.r",
     "varRefreshCmd": "cat(var_dic_list()) "
    }
   },
   "types_to_exclude": [
    "module",
    "function",
    "builtin_function_or_method",
    "instance",
    "_Feature"
   ],
   "window_display": false
  }
 },
 "nbformat": 4,
 "nbformat_minor": 2
}
